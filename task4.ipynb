from pulp import LpMaximize, LpProblem, LpVariable

m = LpProblem(name="factory-optimization", sense=LpMaximize)


p = LpVariable(name="Product_p", lowBound=0, cat="Integer")
q = LpVariable(name="Product_q", lowBound=0, cat="Integer")


m += 30 * p+ 50 * q, "Total Profit"


m += 2 * p + 4 * q <= 100, "Labor Constraint"
m += 3 * p+ 2 * q<= 80, "Raw Material Constraint"


m.solve()

print(f"Optimal number of Product A to produce: {p.varValue}")
print(f"Optimal number of Product B to produce: {q.varValue}")
print(f"Maximum Profit: ${m.objective.value()}")
